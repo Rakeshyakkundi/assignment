{
 "cells": [
  {
   "cell_type": "markdown",
   "metadata": {},
   "source": [
    "Problem 1"
   ]
  },
  {
   "cell_type": "code",
   "execution_count": 70,
   "metadata": {},
   "outputs": [
    {
     "name": "stdout",
     "output_type": "stream",
     "text": [
      "Mean : 6.85\n",
      "Median : 7.0\n",
      "Mode : 7\n"
     ]
    }
   ],
   "source": [
    "l = [6,7,5,7,7,8,7,6,9,7,4,10,6,8,8,9,5,6,4,8];a=0\n",
    "for i in l:\n",
    "    a +=i\n",
    "print('Mean :',a/len(l))\n",
    "\n",
    "import numpy as np\n",
    "if len(l) %2 == 0:\n",
    "    l = np.sort(l,kind='mergesort')\n",
    "    length = int(len(l)/2)\n",
    "    print('Median :',(l[length]+l[length-1])/2)\n",
    "\n",
    "dir = {}\n",
    "for i in l:\n",
    "    if i not in dir:\n",
    "        dir[i] = 1\n",
    "    else:\n",
    "        dir[i] +=1\n",
    "lisapp = []\n",
    "for i in dir:\n",
    "    lisapp.append(dir[i])\n",
    "maxin = lisapp.index(max(lisapp))\n",
    "a = 0\n",
    "for i in dir:\n",
    "    if a==maxin:\n",
    "        print('Mode :',i)\n",
    "    a +=1"
   ]
  },
  {
   "cell_type": "markdown",
   "metadata": {},
   "source": [
    "Problem 2"
   ]
  },
  {
   "cell_type": "code",
   "execution_count": 71,
   "metadata": {},
   "outputs": [
    {
     "name": "stdout",
     "output_type": "stream",
     "text": [
      "Mean : 107.51428571428572\n",
      "Median : 100.0\n",
      "Mode : ModeResult(mode=array([75]), count=array([4]))\n"
     ]
    }
   ],
   "source": [
    "l = [28, 122, 217, 130, 120, 86, 80, 90, 140, 120, 70, 40, 145, 113, 90, 68, 174, 194, 170,\n",
    "100, 75, 104, 97, 75,\n",
    "123, 100, 75, 104, 97, 75, 123, 100, 89, 120, 109]\n",
    "import numpy as np\n",
    "from scipy import stats\n",
    "print('Mean :',np.mean(l))\n",
    "print('Median :',np.median(l))\n",
    "print('Mode :',stats.mode(l))"
   ]
  },
  {
   "cell_type": "code",
   "execution_count": null,
   "metadata": {},
   "outputs": [],
   "source": [
    "\n"
   ]
  },
  {
   "cell_type": "code",
   "execution_count": 63,
   "metadata": {},
   "outputs": [],
   "source": []
  },
  {
   "cell_type": "code",
   "execution_count": null,
   "metadata": {},
   "outputs": [],
   "source": []
  },
  {
   "cell_type": "code",
   "execution_count": null,
   "metadata": {},
   "outputs": [],
   "source": []
  }
 ],
 "metadata": {
  "kernelspec": {
   "display_name": "Python 3",
   "language": "python",
   "name": "python3"
  },
  "language_info": {
   "codemirror_mode": {
    "name": "ipython",
    "version": 3
   },
   "file_extension": ".py",
   "mimetype": "text/x-python",
   "name": "python",
   "nbconvert_exporter": "python",
   "pygments_lexer": "ipython3",
   "version": "3.8.5"
  }
 },
 "nbformat": 4,
 "nbformat_minor": 4
}
